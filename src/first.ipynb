{
 "cells": [
  {
   "cell_type": "code",
   "execution_count": 1,
   "id": "887cc9e7",
   "metadata": {},
   "outputs": [
    {
     "data": {
      "text/plain": [
       "{}"
      ]
     },
     "execution_count": 1,
     "metadata": {},
     "output_type": "execute_result"
    }
   ],
   "source": [
    "import { Connection, PublicKey, Keypair } from '@solana/web3.js';\n",
    "import { PoolFetchType, Raydium } from '@raydium-io/raydium-sdk-v2';\n",
    "// import {getAssociatedTokenAddressSync} from '@solana/spl-token';\n",
    "import { TokenListProvider, TokenInfo } from '@solana/spl-token-registry';\n"
   ]
  },
  {
   "cell_type": "code",
   "execution_count": 2,
   "id": "ea0fac1b",
   "metadata": {},
   "outputs": [
    {
     "ename": "Error",
     "evalue": "Line 2, Character 13\n    const { Token, Tokens, loadTokens} = await import('./utils');\n____________^\nTS2339: Property 'Token' does not exist on type 'typeof import(\"/Users/devo/Desktop/arb/rebalance/src/utils\")'.\n\nLine 2, Character 20\n    const { Token, Tokens, loadTokens} = await import('./utils');\n___________________^\nTS2339: Property 'Tokens' does not exist on type 'typeof import(\"/Users/devo/Desktop/arb/rebalance/src/utils\")'.\n\nLine 3, Character 19\n    const tokens: Tokens = loadTokens();\n__________________^\nTS2749: 'Tokens' refers to a value, but is being used as a type here. Did you mean 'typeof Tokens'?",
     "output_type": "error",
     "traceback": [
      "Error: Line 2, Character 13",
      "    const { Token, Tokens, loadTokens} = await import('./utils');",
      "____________^",
      "TS2339: Property 'Token' does not exist on type 'typeof import(\"/Users/devo/Desktop/arb/rebalance/src/utils\")'.",
      "",
      "Line 2, Character 20",
      "    const { Token, Tokens, loadTokens} = await import('./utils');",
      "___________________^",
      "TS2339: Property 'Tokens' does not exist on type 'typeof import(\"/Users/devo/Desktop/arb/rebalance/src/utils\")'.",
      "",
      "Line 3, Character 19",
      "    const tokens: Tokens = loadTokens();",
      "__________________^",
      "TS2749: 'Tokens' refers to a value, but is being used as a type here. Did you mean 'typeof Tokens'?",
      "    at execTranspile (/usr/local/lib/node_modules/itypescript/lib/kernel.js:229:23)",
      "    at Session.transpiler [as transpile] (/usr/local/lib/node_modules/itypescript/lib/kernel.js:288:35)",
      "    at Session._runNow (/usr/local/lib/node_modules/itypescript/node_modules/nel/lib/nel.js:835:39)",
      "    at Session._run (/usr/local/lib/node_modules/itypescript/node_modules/nel/lib/nel.js:786:14)",
      "    at Session.execute (/usr/local/lib/node_modules/itypescript/node_modules/nel/lib/nel.js:929:10)",
      "    at Kernel.execute_request (/usr/local/lib/node_modules/itypescript/node_modules/jp-kernel/lib/handlers_v5.js:116:18)",
      "    at Kernel.onShellMessage (/usr/local/lib/node_modules/itypescript/node_modules/jp-kernel/lib/jp-kernel.js:285:41)",
      "    at Socket.<anonymous> (/usr/local/lib/node_modules/itypescript/node_modules/jmp/index.js:350:17)",
      "    at Socket.emit (node:events:518:28)",
      "    at Socket._emitMessage (/usr/local/lib/node_modules/itypescript/node_modules/zeromq/lib/index.js:649:15)"
     ]
    }
   ],
   "source": [
    "(async () => {\n",
    "    const { Token, Tokens, loadTokens} = await import('./utils');\n",
    "    const tokens: Tokens = loadTokens();\n",
    "    const rpc: string = process.env.RPC_ENDPOINT || 'https://api.mainnet-beta.solana.com';\n",
    "    const connection = new Connection(rpc);\n",
    "    const raydium = await Raydium.load({\n",
    "        connection: connection,\n",
    "    })\n",
    "    const pools = await raydium.api.fetchPoolByMints({\n",
    "        mint1: tokens.bySymbol[\"SOL\"].address,\n",
    "        mint2: tokens.bySymbol[\"USDC\"].address,\n",
    "        type: PoolFetchType.Standard\n",
    "    })\n",
    "    console.log(pools)\n",
    "})().catch(console.error);"
   ]
  },
  {
   "cell_type": "code",
   "execution_count": null,
   "id": "d5e7b6c3",
   "metadata": {},
   "outputs": [],
   "source": []
  }
 ],
 "metadata": {
  "kernelspec": {
   "display_name": "Typescript 4.9",
   "language": "typescript",
   "name": "typescript"
  },
  "language_info": {
   "file_extension": ".ts",
   "mimetype": "application/x-typescript",
   "name": "typescript",
   "version": "4.9.5"
  }
 },
 "nbformat": 4,
 "nbformat_minor": 5
}
